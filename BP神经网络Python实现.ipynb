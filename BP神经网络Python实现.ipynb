{
 "cells": [
  {
   "cell_type": "code",
   "execution_count": 3,
   "metadata": {},
   "outputs": [
    {
     "name": "stdout",
     "output_type": "stream",
     "text": [
      "创建数组\n",
      "[2 3 4]\n",
      "[[1.3 9.  2. ]\n",
      " [7.  6.  1. ]]\n",
      "[[0. 0. 0.]\n",
      " [0. 0. 0.]]\n",
      "[[1. 0. 0.]\n",
      " [0. 1. 0.]\n",
      " [0. 0. 1.]]\n",
      "[[0.0491311  0.80644344 0.56696541]\n",
      " [0.40050642 0.35861794 0.84304809]]\n",
      "[ 5  8 11 14 17]\n",
      "[0.   0.25 0.5  0.75 1.   1.25 1.5  1.75 2.  ]\n"
     ]
    }
   ],
   "source": [
    "import numpy as np\n",
    "print('''创建数组''')\n",
    "arr1 = np.array([2,3,4])\n",
    "arr2 = np.array([(1.3,9,2.0),(7,6,1)])\n",
    "arr3 = np.zeros([2,3])\n",
    "arr4 = np.identity(3)\n",
    "arr5 = np.random.random(size = (2,3))\n",
    "arr6 = np.arange(5,20,3)\n",
    "arr7 = np.linspace(0,2,9)\n",
    "print(arr1)\n",
    "print(arr2)\n",
    "print(arr3)\n",
    "print(arr4)\n",
    "print(arr5)\n",
    "print(arr6)\n",
    "print(arr7)"
   ]
  },
  {
   "cell_type": "code",
   "execution_count": 4,
   "metadata": {},
   "outputs": [
    {
     "name": "stdout",
     "output_type": "stream",
     "text": [
      "(2, 3)\n"
     ]
    }
   ],
   "source": [
    "print(arr2.shape)"
   ]
  },
  {
   "cell_type": "code",
   "execution_count": 5,
   "metadata": {},
   "outputs": [
    {
     "name": "stdout",
     "output_type": "stream",
     "text": [
      "2\n"
     ]
    }
   ],
   "source": [
    "print(arr2.ndim)"
   ]
  },
  {
   "cell_type": "code",
   "execution_count": 6,
   "metadata": {},
   "outputs": [
    {
     "name": "stdout",
     "output_type": "stream",
     "text": [
      "6\n"
     ]
    }
   ],
   "source": [
    "print(arr2.size)"
   ]
  },
  {
   "cell_type": "code",
   "execution_count": 7,
   "metadata": {},
   "outputs": [
    {
     "name": "stdout",
     "output_type": "stream",
     "text": [
      "float64\n"
     ]
    }
   ],
   "source": [
    "print(arr2.dtype.name)"
   ]
  },
  {
   "cell_type": "code",
   "execution_count": 8,
   "metadata": {},
   "outputs": [
    {
     "name": "stdout",
     "output_type": "stream",
     "text": [
      "<class 'numpy.ndarray'>\n"
     ]
    }
   ],
   "source": [
    "print(type(arr2))"
   ]
  },
  {
   "cell_type": "code",
   "execution_count": 10,
   "metadata": {},
   "outputs": [
    {
     "name": "stdout",
     "output_type": "stream",
     "text": [
      "[[ 0  1  2]\n",
      " [10 11 12]\n",
      " [20 21 22]\n",
      " [30 31 32]]\n"
     ]
    }
   ],
   "source": [
    "def f(x,y):\n",
    "    return 10*x+y\n",
    "arr8 = np.fromfunction(f,(4,3),dtype = int)\n",
    "print(arr8)"
   ]
  },
  {
   "cell_type": "code",
   "execution_count": 11,
   "metadata": {},
   "outputs": [
    {
     "name": "stdout",
     "output_type": "stream",
     "text": [
      "12\n"
     ]
    }
   ],
   "source": [
    "print(arr8[1,2])"
   ]
  },
  {
   "cell_type": "code",
   "execution_count": 12,
   "metadata": {},
   "outputs": [
    {
     "name": "stdout",
     "output_type": "stream",
     "text": [
      "[[ 0  1  2]\n",
      " [10 11 12]]\n"
     ]
    }
   ],
   "source": [
    "print(arr8[0:2,:])"
   ]
  },
  {
   "cell_type": "code",
   "execution_count": 13,
   "metadata": {},
   "outputs": [
    {
     "name": "stdout",
     "output_type": "stream",
     "text": [
      "[ 1 11 21 31]\n"
     ]
    }
   ],
   "source": [
    "print(arr8[:,1])"
   ]
  },
  {
   "cell_type": "code",
   "execution_count": 14,
   "metadata": {},
   "outputs": [
    {
     "name": "stdout",
     "output_type": "stream",
     "text": [
      "[30 31 32]\n"
     ]
    }
   ],
   "source": [
    "print(arr8[-1])"
   ]
  },
  {
   "cell_type": "code",
   "execution_count": 15,
   "metadata": {},
   "outputs": [
    {
     "name": "stdout",
     "output_type": "stream",
     "text": [
      "[0 1 2]\n",
      "[10 11 12]\n",
      "[20 21 22]\n",
      "[30 31 32]\n"
     ]
    }
   ],
   "source": [
    "for row in arr8:\n",
    "    print(row)"
   ]
  },
  {
   "cell_type": "code",
   "execution_count": 16,
   "metadata": {},
   "outputs": [
    {
     "name": "stdout",
     "output_type": "stream",
     "text": [
      "0\n",
      "1\n",
      "2\n",
      "10\n",
      "11\n",
      "12\n",
      "20\n",
      "21\n",
      "22\n",
      "30\n",
      "31\n",
      "32\n"
     ]
    }
   ],
   "source": [
    "for element in arr8.flat:\n",
    "    print(element)"
   ]
  },
  {
   "cell_type": "code",
   "execution_count": 17,
   "metadata": {},
   "outputs": [
    {
     "name": "stdout",
     "output_type": "stream",
     "text": [
      "数组的运算\n"
     ]
    }
   ],
   "source": [
    "print('''数组的运算''')"
   ]
  },
  {
   "cell_type": "code",
   "execution_count": 19,
   "metadata": {},
   "outputs": [
    {
     "name": "stdout",
     "output_type": "stream",
     "text": [
      "[[ 1 -1]\n",
      " [-2 -2]]\n"
     ]
    }
   ],
   "source": [
    "arr9 = np.array([[2,1],[1,2]])\n",
    "arr10 = np.array([[1,2],[3,4]])\n",
    "print(arr9 - arr10)"
   ]
  },
  {
   "cell_type": "code",
   "execution_count": 20,
   "metadata": {},
   "outputs": [
    {
     "name": "stdout",
     "output_type": "stream",
     "text": [
      "[[4 1]\n",
      " [1 4]]\n"
     ]
    }
   ],
   "source": [
    "print(arr9**2)"
   ]
  },
  {
   "cell_type": "code",
   "execution_count": 21,
   "metadata": {},
   "outputs": [
    {
     "name": "stdout",
     "output_type": "stream",
     "text": [
      "[[ 3  6]\n",
      " [ 9 12]]\n"
     ]
    }
   ],
   "source": [
    "print(3*arr10)"
   ]
  },
  {
   "cell_type": "code",
   "execution_count": 22,
   "metadata": {},
   "outputs": [
    {
     "name": "stdout",
     "output_type": "stream",
     "text": [
      "[[2 2]\n",
      " [3 8]]\n"
     ]
    }
   ],
   "source": [
    "print(arr9*arr10)"
   ]
  },
  {
   "cell_type": "code",
   "execution_count": 23,
   "metadata": {},
   "outputs": [
    {
     "name": "stdout",
     "output_type": "stream",
     "text": [
      "[[ 5  8]\n",
      " [ 7 10]]\n"
     ]
    }
   ],
   "source": [
    "print(np.dot(arr9,arr10))"
   ]
  },
  {
   "cell_type": "code",
   "execution_count": 24,
   "metadata": {},
   "outputs": [
    {
     "name": "stdout",
     "output_type": "stream",
     "text": [
      "[[1 3]\n",
      " [2 4]]\n"
     ]
    }
   ],
   "source": [
    "print(arr10.T)"
   ]
  },
  {
   "cell_type": "code",
   "execution_count": 25,
   "metadata": {},
   "outputs": [
    {
     "name": "stdout",
     "output_type": "stream",
     "text": [
      "[[-2.   1. ]\n",
      " [ 1.5 -0.5]]\n"
     ]
    }
   ],
   "source": [
    "print(np.linalg.inv(arr10))"
   ]
  },
  {
   "cell_type": "code",
   "execution_count": 26,
   "metadata": {},
   "outputs": [
    {
     "name": "stdout",
     "output_type": "stream",
     "text": [
      "Numpy通用函数\n"
     ]
    }
   ],
   "source": [
    "print('''Numpy通用函数''')"
   ]
  },
  {
   "cell_type": "code",
   "execution_count": 27,
   "metadata": {},
   "outputs": [
    {
     "name": "stdout",
     "output_type": "stream",
     "text": [
      "[[7.3890561  2.71828183]\n",
      " [2.71828183 7.3890561 ]]\n"
     ]
    }
   ],
   "source": [
    "print(np.exp(arr9))"
   ]
  },
  {
   "cell_type": "code",
   "execution_count": 28,
   "metadata": {},
   "outputs": [
    {
     "name": "stdout",
     "output_type": "stream",
     "text": [
      "[[0.90929743 0.84147098]\n",
      " [0.84147098 0.90929743]]\n"
     ]
    }
   ],
   "source": [
    "print(np.sin(arr9))"
   ]
  },
  {
   "cell_type": "code",
   "execution_count": 29,
   "metadata": {},
   "outputs": [
    {
     "name": "stdout",
     "output_type": "stream",
     "text": [
      "[[1.41421356 1.        ]\n",
      " [1.         1.41421356]]\n"
     ]
    }
   ],
   "source": [
    "print(np.sqrt(arr9))"
   ]
  },
  {
   "cell_type": "code",
   "execution_count": 30,
   "metadata": {},
   "outputs": [
    {
     "name": "stdout",
     "output_type": "stream",
     "text": [
      "[[3 3]\n",
      " [4 6]]\n"
     ]
    }
   ],
   "source": [
    "print(np.add(arr9,arr10))"
   ]
  },
  {
   "cell_type": "code",
   "execution_count": 31,
   "metadata": {},
   "outputs": [],
   "source": [
    "arr11 = np.vstack((arr9,arr10))"
   ]
  },
  {
   "cell_type": "code",
   "execution_count": 32,
   "metadata": {},
   "outputs": [
    {
     "name": "stdout",
     "output_type": "stream",
     "text": [
      "[[2 1]\n",
      " [1 2]\n",
      " [1 2]\n",
      " [3 4]]\n"
     ]
    }
   ],
   "source": [
    "print(arr11)"
   ]
  },
  {
   "cell_type": "code",
   "execution_count": 33,
   "metadata": {},
   "outputs": [],
   "source": [
    "arr12 = np.hstack((arr9,arr10))"
   ]
  },
  {
   "cell_type": "code",
   "execution_count": 34,
   "metadata": {},
   "outputs": [
    {
     "name": "stdout",
     "output_type": "stream",
     "text": [
      "[[2 1 1 2]\n",
      " [1 2 3 4]]\n"
     ]
    }
   ],
   "source": [
    "print(arr12)"
   ]
  },
  {
   "cell_type": "code",
   "execution_count": 35,
   "metadata": {},
   "outputs": [
    {
     "name": "stdout",
     "output_type": "stream",
     "text": [
      "[array([[2, 1],\n",
      "       [1, 2]]), array([[1, 2],\n",
      "       [3, 4]])]\n"
     ]
    }
   ],
   "source": [
    "print(np.hsplit(arr12,2))"
   ]
  },
  {
   "cell_type": "code",
   "execution_count": 36,
   "metadata": {},
   "outputs": [
    {
     "name": "stdout",
     "output_type": "stream",
     "text": [
      "[array([[2, 1],\n",
      "       [1, 2]]), array([[1, 2],\n",
      "       [3, 4]])]\n"
     ]
    }
   ],
   "source": [
    "print(np.vsplit(arr11,2))"
   ]
  },
  {
   "cell_type": "code",
   "execution_count": 37,
   "metadata": {},
   "outputs": [
    {
     "name": "stdout",
     "output_type": "stream",
     "text": [
      "      id  age    cash\n",
      "0   Jack   18   10.53\n",
      "1  Sarah   35  500.70\n",
      "2   Mike   20   13.60\n"
     ]
    }
   ],
   "source": [
    "import pandas as pd\n",
    "data = {\n",
    "    'id':['Jack','Sarah','Mike'],\n",
    "    'age':[18,35,20],\n",
    "    'cash':[10.53,500.7,13.6]\n",
    "}\n",
    "df = pd.DataFrame(data)\n",
    "print(df)"
   ]
  },
  {
   "cell_type": "code",
   "execution_count": 38,
   "metadata": {},
   "outputs": [
    {
     "name": "stdout",
     "output_type": "stream",
     "text": [
      "          id  age    cash\n",
      "one     Jack   18   10.53\n",
      "two    Sarah   35  500.70\n",
      "three   Mike   20   13.60\n"
     ]
    }
   ],
   "source": [
    "df2 = pd.DataFrame(data, columns = ['id','age','cash'], index = ['one','two','three'])\n",
    "print(df2)"
   ]
  },
  {
   "cell_type": "code",
   "execution_count": 39,
   "metadata": {},
   "outputs": [
    {
     "name": "stdout",
     "output_type": "stream",
     "text": [
      "one       Jack\n",
      "two      Sarah\n",
      "three     Mike\n",
      "Name: id, dtype: object\n"
     ]
    }
   ],
   "source": [
    "print(df2['id'])"
   ]
  },
  {
   "cell_type": "code",
   "execution_count": 40,
   "metadata": {},
   "outputs": [
    {
     "name": "stdout",
     "output_type": "stream",
     "text": [
      "a     4\n",
      "b     9\n",
      "c    16\n",
      "Name: number, dtype: int64\n"
     ]
    }
   ],
   "source": [
    "s = pd.Series({'a':4,'b':9,'c':16},name='number')\n",
    "print(s)"
   ]
  },
  {
   "cell_type": "code",
   "execution_count": 41,
   "metadata": {},
   "outputs": [
    {
     "name": "stdout",
     "output_type": "stream",
     "text": [
      "4\n"
     ]
    }
   ],
   "source": [
    "print(s[0])"
   ]
  },
  {
   "cell_type": "code",
   "execution_count": 42,
   "metadata": {},
   "outputs": [
    {
     "name": "stdout",
     "output_type": "stream",
     "text": [
      "a     4\n",
      "b     9\n",
      "c    16\n",
      "Name: number, dtype: int64\n"
     ]
    }
   ],
   "source": [
    "print(s[:3])"
   ]
  },
  {
   "cell_type": "code",
   "execution_count": 43,
   "metadata": {},
   "outputs": [
    {
     "name": "stdout",
     "output_type": "stream",
     "text": [
      "4\n"
     ]
    }
   ],
   "source": [
    "print(s['a'])"
   ]
  },
  {
   "cell_type": "code",
   "execution_count": 44,
   "metadata": {},
   "outputs": [
    {
     "name": "stdout",
     "output_type": "stream",
     "text": [
      "a     4\n",
      "b     9\n",
      "c    16\n",
      "d    25\n",
      "Name: number, dtype: int64\n"
     ]
    }
   ],
   "source": [
    "s['d']=25\n",
    "print(s)"
   ]
  },
  {
   "cell_type": "code",
   "execution_count": 45,
   "metadata": {},
   "outputs": [
    {
     "name": "stdout",
     "output_type": "stream",
     "text": [
      "a    2.0\n",
      "b    3.0\n",
      "c    4.0\n",
      "d    5.0\n",
      "Name: number, dtype: float64\n"
     ]
    }
   ],
   "source": [
    "import numpy as np\n",
    "print(np.sqrt(s))"
   ]
  },
  {
   "cell_type": "code",
   "execution_count": 46,
   "metadata": {},
   "outputs": [
    {
     "name": "stdout",
     "output_type": "stream",
     "text": [
      "a     16\n",
      "b     81\n",
      "c    256\n",
      "d    625\n",
      "Name: number, dtype: int64\n"
     ]
    }
   ],
   "source": [
    "print(s*s)"
   ]
  },
  {
   "cell_type": "code",
   "execution_count": 48,
   "metadata": {},
   "outputs": [
    {
     "name": "stdout",
     "output_type": "stream",
     "text": [
      "0     Jack\n",
      "1    Sarah\n",
      "2     Mike\n",
      "Name: id, dtype: object\n"
     ]
    }
   ],
   "source": [
    "print (df['id'])"
   ]
  },
  {
   "cell_type": "code",
   "execution_count": 49,
   "metadata": {},
   "outputs": [
    {
     "name": "stdout",
     "output_type": "stream",
     "text": [
      "      id  age    cash   rich\n",
      "0   Jack   18   10.53  False\n",
      "1  Sarah   35  500.70   True\n",
      "2   Mike   20   13.60  False\n"
     ]
    }
   ],
   "source": [
    "df['rich'] = df['cash']>200.0\n",
    "print(df)"
   ]
  },
  {
   "cell_type": "code",
   "execution_count": 50,
   "metadata": {},
   "outputs": [
    {
     "name": "stdout",
     "output_type": "stream",
     "text": [
      "      id  age    cash\n",
      "0   Jack   18   10.53\n",
      "1  Sarah   35  500.70\n",
      "2   Mike   20   13.60\n"
     ]
    }
   ],
   "source": [
    "del df['rich']\n",
    "print(df)"
   ]
  },
  {
   "cell_type": "code",
   "execution_count": 51,
   "metadata": {},
   "outputs": [
    {
     "data": {
      "image/png": "[encoded data removed]",
      "text/plain": [
       "<Figure size 576x288 with 1 Axes>"
      ]
     },
     "metadata": {
      "needs_background": "light"
     },
     "output_type": "display_data"
    }
   ],
   "source": [
    "import numpy as np\n",
    "import matplotlib.pyplot as plt\n",
    "x = np.linspace(0,10,100)\n",
    "y = np.sin(x)\n",
    "z = np.cos(x)\n",
    "\n",
    "plt.figure(figsize=(8,4))\n",
    "plt.plot(x,y,label=\"$sin(x)$\",color='red',linewidth=2)\n",
    "plt.plot(x,z,\"b--\",label=\"$cos(x^2)$\")\n",
    "plt.xlabel(\"Time(s)\")\n",
    "plt.ylabel(\"Volt\")\n",
    "plt.title(\"Pyplot First Example\")\n",
    "plt.ylim(-1.2,1.2)\n",
    "plt.legend()\n",
    "plt.show()"
   ]
  },
  {
   "cell_type": "code",
   "execution_count": 53,
   "metadata": {},
   "outputs": [
    {
     "data": {
      "image/png": "[encoded data removed]",
      "text/plain": [
       "<Figure size 432x288 with 3 Axes>"
      ]
     },
     "metadata": {
      "needs_background": "light"
     },
     "output_type": "display_data"
    }
   ],
   "source": [
    "import matplotlib.pylab as plt\n",
    "import numpy as np\n",
    "plt.subplot(2,1,1)\n",
    "plt.subplot(2,2,3)\n",
    "plt.subplot(2,2,4)\n",
    "plt.show()"
   ]
  },
  {
   "cell_type": "code",
   "execution_count": 55,
   "metadata": {},
   "outputs": [
    {
     "data": {
      "image/png": "[encoded data removed]",
      "text/plain": [
       "<Figure size 432x288 with 3 Axes>"
      ]
     },
     "metadata": {
      "needs_background": "light"
     },
     "output_type": "display_data"
    }
   ],
   "source": [
    "import matplotlib.pylab as plt\n",
    "import numpy as np\n",
    "plt.subplot(2,1,1)\n",
    "n = 12\n",
    "X = np.arange(n)\n",
    "Y1 = (1-X/float(n)) * np.random.uniform(0.5,1.0,n)\n",
    "Y2 = (1-X/float(n)) * np.random.uniform(0.5,1.0,n)\n",
    "\n",
    "plt.bar(X, +Y1, facecolor = '#9999ff', edgecolor='white')\n",
    "plt.bar(X, -Y2, facecolor = '#ff9999', edgecolor='white')\n",
    "\n",
    "for x,y in zip(X,Y1):\n",
    "    plt.text(x+0.4, y+0.05, '%.2f' % y, ha='center',va='bottom')\n",
    "\n",
    "plt.ylim(-1.25, +1.25)\n",
    "\n",
    "plt.subplot(2,2,3)\n",
    "n = 20\n",
    "z = np.random.uniform(0,1,n)\n",
    "plt.pie(z)\n",
    "\n",
    "plt.subplot(2,2,4)\n",
    "x = np.linspace(-np.pi,np.pi,256,endpoint=True)\n",
    "Y_C, Y_S = np.cos(x),np.sin(x)\n",
    "\n",
    "plt.plot(x,Y_C,color='blue',linewidth=2.5,linestyle=\"-\")\n",
    "plt.plot(x,Y_S,color='red',linewidth=2.5,linestyle=\"-\")\n",
    "\n",
    "plt.xlim(x.min()*1.1,x.max()*1.1)\n",
    "plt.xticks([-np.pi,-np.pi/2,0,np.pi/2,np.pi],\n",
    "          [r'$-\\pi$',r'$-\\pi/2$',r'$0$',r'$+\\pi/2$',r'$+\\pi$'])\n",
    "\n",
    "plt.ylim(Y_C.min()*1.1,Y_C.max()*1.1)\n",
    "plt.yticks([-1,0,+1],\n",
    "          [r'$-1$',r'$0$',r'$+1$'])\n",
    "plt.show()"
   ]
  },
  {
   "cell_type": "code",
   "execution_count": 57,
   "metadata": {},
   "outputs": [
    {
     "name": "stderr",
     "output_type": "stream",
     "text": [
      "BokehDeprecationWarning: 'legend' keyword is deprecated, use explicit 'legend_label', 'legend_field', or 'legend_group' keywords instead\n"
     ]
    }
   ],
   "source": [
    "from bokeh.plotting import figure, output_file,show\n",
    "x = [1,2,3,4,5]\n",
    "y = [6,7,2,4,5]\n",
    "output_file(\"lines.html\",title=\"line plot example\")\n",
    "p = figure(title = \"simple line example\", x_axis_label=\"x\",y_axis_label=\"y\")\n",
    "p.line(x,y,legend=\"Line A.\",line_width=2)\n",
    "show(p)"
   ]
  },
  {
   "cell_type": "code",
   "execution_count": 60,
   "metadata": {},
   "outputs": [
    {
     "name": "stdout",
     "output_type": "stream",
     "text": [
      "方程的确定性系数（R^2）: 0.48\n"
     ]
    },
    {
     "data": {
      "image/png": "[encoded data removed]",
      "text/plain": [
       "<Figure size 432x288 with 1 Axes>"
      ]
     },
     "metadata": {
      "needs_background": "light"
     },
     "output_type": "display_data"
    }
   ],
   "source": [
    "import numpy as np\n",
    "import matplotlib.pyplot as plt\n",
    "from sklearn.datasets import load_boston\n",
    "from sklearn.linear_model import LinearRegression\n",
    "\n",
    "boston = load_boston()\n",
    "#print(boston.keys())\n",
    "\n",
    "#print(boston.feature_names)\n",
    "\n",
    "x = boston.data[:,np.newaxis, 5]\n",
    "y = boston.target\n",
    "lm = LinearRegression()\n",
    "lm.fit(x,y)\n",
    "print(u'方程的确定性系数（R^2）: %.2f' % lm.score(x,y))\n",
    "\n",
    "plt.scatter(x,y,color='green')\n",
    "plt.plot(x,lm.predict(x),color='blue',linewidth=3)\n",
    "plt.xlabel('Average Number of Rooms per Dwellings(RM)')\n",
    "plt.ylabel('Hosing Price')\n",
    "plt.title('2D Demo of Linear Regression')\n",
    "plt.show()"
   ]
  },
  {
   "cell_type": "code",
   "execution_count": 11,
   "metadata": {},
   "outputs": [
    {
     "data": {
      "image/png": "[encoded data removed]",
      "text/plain": [
       "<Figure size 432x288 with 1 Axes>"
      ]
     },
     "metadata": {
      "needs_background": "light"
     },
     "output_type": "display_data"
    },
    {
     "ename": "ValueError",
     "evalue": "operands could not be broadcast together with shapes (0,320) (3,) (0,320) ",
     "output_type": "error",
     "traceback": [
      "\u001b[0;31m---------------------------------------------------------------------------\u001b[0m",
      "\u001b[0;31mValueError\u001b[0m                                Traceback (most recent call last)",
      "\u001b[0;32m<ipython-input-11-f81e161a0f96>\u001b[0m in \u001b[0;36m<module>\u001b[0;34m\u001b[0m\n\u001b[1;32m     73\u001b[0m         \u001b[0mz\u001b[0m\u001b[0;34m[\u001b[0m\u001b[0mi\u001b[0m\u001b[0;34m]\u001b[0m \u001b[0;34m=\u001b[0m \u001b[0mnp\u001b[0m\u001b[0;34m.\u001b[0m\u001b[0mdot\u001b[0m\u001b[0;34m(\u001b[0m\u001b[0mw\u001b[0m\u001b[0;34m[\u001b[0m\u001b[0mi\u001b[0m\u001b[0;34m]\u001b[0m\u001b[0;34m,\u001b[0m\u001b[0ma\u001b[0m\u001b[0;34m[\u001b[0m\u001b[0mi\u001b[0m\u001b[0;34m]\u001b[0m\u001b[0;34m)\u001b[0m\u001b[0;34m\u001b[0m\u001b[0;34m\u001b[0m\u001b[0m\n\u001b[1;32m     74\u001b[0m         \u001b[0;32mfor\u001b[0m \u001b[0mj\u001b[0m \u001b[0;32min\u001b[0m \u001b[0mrange\u001b[0m\u001b[0;34m(\u001b[0m\u001b[0mm\u001b[0m\u001b[0;34m)\u001b[0m\u001b[0;34m:\u001b[0m\u001b[0;34m\u001b[0m\u001b[0;34m\u001b[0m\u001b[0m\n\u001b[0;32m---> 75\u001b[0;31m             \u001b[0mz\u001b[0m\u001b[0;34m[\u001b[0m\u001b[0mi\u001b[0m\u001b[0;34m]\u001b[0m\u001b[0;34m[\u001b[0m\u001b[0;34m:\u001b[0m\u001b[0mj\u001b[0m\u001b[0;34m]\u001b[0m\u001b[0;34m+=\u001b[0m\u001b[0mb\u001b[0m\u001b[0;34m[\u001b[0m\u001b[0mi\u001b[0m\u001b[0;34m]\u001b[0m\u001b[0;34m\u001b[0m\u001b[0;34m\u001b[0m\u001b[0m\n\u001b[0m\u001b[1;32m     76\u001b[0m         \u001b[0ma\u001b[0m\u001b[0;34m[\u001b[0m\u001b[0mi\u001b[0m\u001b[0;34m+\u001b[0m\u001b[0;36m1\u001b[0m\u001b[0;34m]\u001b[0m \u001b[0;34m=\u001b[0m \u001b[0mactivation_function\u001b[0m\u001b[0;34m(\u001b[0m\u001b[0mz\u001b[0m\u001b[0;34m[\u001b[0m\u001b[0mi\u001b[0m\u001b[0;34m]\u001b[0m\u001b[0;34m)\u001b[0m   \u001b[0;31m#激活节点\u001b[0m\u001b[0;34m\u001b[0m\u001b[0;34m\u001b[0m\u001b[0m\n\u001b[1;32m     77\u001b[0m     \u001b[0mpredict\u001b[0m \u001b[0;34m=\u001b[0m \u001b[0ma\u001b[0m\u001b[0;34m[\u001b[0m\u001b[0;34m-\u001b[0m\u001b[0;36m1\u001b[0m\u001b[0;34m]\u001b[0m\u001b[0;34m[\u001b[0m\u001b[0;36m0\u001b[0m\u001b[0;34m]\u001b[0m  \u001b[0;31m#a[-1]是输出层的结果，即为预测值\u001b[0m\u001b[0;34m\u001b[0m\u001b[0;34m\u001b[0m\u001b[0m\n",
      "\u001b[0;31mValueError\u001b[0m: operands could not be broadcast together with shapes (0,320) (3,) (0,320) "
     ]
    }
   ],
   "source": [
    "#BP神经网络Python实现\n",
    "\n",
    "import numpy as np\n",
    "from numpy import random\n",
    "import math\n",
    "import copy\n",
    "import sklearn.datasets\n",
    "import matplotlib.pyplot as plt\n",
    "\n",
    "#获取数据并分为训练集和测试集\n",
    "trainingSet,trainingLabels = sklearn.datasets.make_moons(400,noise=0.20)\n",
    "plt.scatter(trainingSet[trainingLabels==1][:,0], trainingSet[trainingLabels==1][:,1], s=40, c='r', marker='x',\n",
    "           cmap=plt.cm.Spectral)\n",
    "plt.scatter(trainingSet[trainingLabels==0][:,0], trainingSet[trainingLabels==0][:,1], s=40, c='y', marker='+',\n",
    "           cmap=plt.cm.Spectral)\n",
    "plt.show()\n",
    "testSet = trainingSet[320:]\n",
    "testLabels = trainingLabels[320:]\n",
    "trainingSet = trainingSet[:320]\n",
    "trainingLabels = trainingLabels[:320]\n",
    "\n",
    "#设置网络参数\n",
    "layer = [2,3,1]   #设置层数和节点数\n",
    "Lambda = 0.005   #正则化系数\n",
    "alpha = 0.2      #学习速率\n",
    "num_passes = 20000 #迭代次数\n",
    "m = len(trainingSet) #样本数量\n",
    "\n",
    "#建立网络\n",
    "#网络采用列表存储每层的网络结构，网络的层数和各层节点数都可以自由设定\n",
    "b = []  #偏置元，共layer-1个元素，b[0] 代表第一个隐藏层的偏置元（向量形式）\n",
    "w = []\n",
    "for i in range(len(layer)-1):\n",
    "    w.append(random.random(size = (layer[i+1],layer[i]))) #w[i]表示网络第i层到第i+1层的壮医矩阵，输入层是第0层\n",
    "    b.append(np.array([0.1]*layer[i+1])) \n",
    "    \n",
    "a = [np.array(0)]*(len(w)+1)\n",
    "\n",
    "z = [np.array(0)]*len(w)\n",
    "\n",
    "w = np.array(w)\n",
    "\n",
    "def costfunction(predict,labels):\n",
    "    #不加入正则化项的代价函数\n",
    "    #输入参数格式为numpy的向量\n",
    "    return sum(predict - labels)**2\n",
    "def error_rate(predict,labels):\n",
    "    #计算错误率，针对二分类问题，分类标签为0或1\n",
    "    error = 0.0\n",
    "    for i in range(len(predict)):\n",
    "        predict[i] = round(predict[i])\n",
    "        if predict[i]!=labels[i]:\n",
    "            error+=1\n",
    "    return error/len(predict)\n",
    "\n",
    "def sigmoid(z): #激活函数 sigmoid\n",
    "    return 1/(1+np.exp(-z))\n",
    "\n",
    "def diff_sigmoid(z):\n",
    "    return sigmoid(z)*(1-sigmoid(z))\n",
    "\n",
    "activation_function = sigmoid #设置激活函数\n",
    "diff_activation_function = diff_sigmoid #设置激活函数的导数\n",
    "\n",
    "\n",
    "#开始训练BP神经网络\n",
    "a[0] = np.array(trainingSet).T    #这里一列为一个样本，一行代表一个特征\n",
    "y = np.array(trainingLabels)\n",
    "\n",
    "for v in range(num_passes):\n",
    "    #前向传播\n",
    "    for i in range(len(w)):\n",
    "        z[i] = np.dot(w[i],a[i])\n",
    "        for j in range(m):\n",
    "            z[i][:j]+=b[i]\n",
    "        a[i+1] = activation_function(z[i])   #激活节点\n",
    "    predict = a[-1][0]  #a[-1]是输出层的结果，即为预测值\n",
    "    \n",
    "    #反向传播\n",
    "    delta = [np.array(0)]*len(w) #delta[0]是第一个隐藏层的残差，delta[-1]是输出层的残差\n",
    "    \n",
    "    #计算输出层的残差\n",
    "    delta[-1] = -(y-a[-1])*diff_activation_function(z[-1])\n",
    "    \n",
    "    #计算第二层起除输出层外的残差\n",
    "    for i in range(len(delta)-1):\n",
    "        delta[-i-2] = np.dot(w[-i-1].T,delta[-i-1]*diff_activation_function(z[-i-2])) #这里是倒#序遍历\n",
    "    delta_w = [np.array(0)*len(w)]\n",
    "    delta_b = [np.array(0)*len(w)]\n",
    "    for i in range(len(w)):\n",
    "        delta_w[i] = np.dot(delta[i],a[i].T)\n",
    "        delta_b[i] = np.sum(delta[i],axis=1)\n",
    "        \n",
    "    #更新权重参数\n",
    "    for i in range(len(w)):\n",
    "        w[i] -=alpha*(Lambda*w[i]+delta_w[i]/m)\n",
    "        b[i] -=alpha/m*delta_b[i]\n",
    "        \n",
    "    print(costfunction(predict,np.array(trainingLabels)))\n",
    "    print(error_rate(predict,no.array(trainingLabels)))"
   ]
  },
  {
   "cell_type": "code",
   "execution_count": null,
   "metadata": {},
   "outputs": [],
   "source": []
  }
 ],
 "metadata": {
  "kernelspec": {
   "display_name": "Python 3",
   "language": "python",
   "name": "python3"
  },
  "language_info": {
   "codemirror_mode": {
    "name": "ipython",
    "version": 3
   },
   "file_extension": ".py",
   "mimetype": "text/x-python",
   "name": "python",
   "nbconvert_exporter": "python",
   "pygments_lexer": "ipython3",
   "version": "3.8.3"
  }
 },
 "nbformat": 4,
 "nbformat_minor": 4
}
